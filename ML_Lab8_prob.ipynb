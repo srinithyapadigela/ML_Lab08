{
 "cells": [
  {
   "cell_type": "code",
   "execution_count": null,
   "id": "c5513cf0",
   "metadata": {},
   "outputs": [],
   "source": [
    "#Padigela Srinithya Reddy\n",
    "#BL.EN.U4CSE21146"
   ]
  },
  {
   "cell_type": "code",
   "execution_count": 22,
   "id": "bab5a508",
   "metadata": {},
   "outputs": [],
   "source": [
    "import math\n",
    "import pandas as pd\n",
    "import numpy as np"
   ]
  },
  {
   "cell_type": "code",
   "execution_count": 3,
   "id": "ad5e7ba0",
   "metadata": {},
   "outputs": [
    {
     "data": {
      "text/html": [
       "<div>\n",
       "<style scoped>\n",
       "    .dataframe tbody tr th:only-of-type {\n",
       "        vertical-align: middle;\n",
       "    }\n",
       "\n",
       "    .dataframe tbody tr th {\n",
       "        vertical-align: top;\n",
       "    }\n",
       "\n",
       "    .dataframe thead th {\n",
       "        text-align: right;\n",
       "    }\n",
       "</style>\n",
       "<table border=\"1\" class=\"dataframe\">\n",
       "  <thead>\n",
       "    <tr style=\"text-align: right;\">\n",
       "      <th></th>\n",
       "      <th>Age</th>\n",
       "      <th>Income</th>\n",
       "      <th>Student</th>\n",
       "      <th>Credit_Rating</th>\n",
       "      <th>Buys_Computer</th>\n",
       "    </tr>\n",
       "  </thead>\n",
       "  <tbody>\n",
       "    <tr>\n",
       "      <th>0</th>\n",
       "      <td>&lt;=30</td>\n",
       "      <td>high</td>\n",
       "      <td>no</td>\n",
       "      <td>fair</td>\n",
       "      <td>no</td>\n",
       "    </tr>\n",
       "    <tr>\n",
       "      <th>1</th>\n",
       "      <td>&lt;=30</td>\n",
       "      <td>high</td>\n",
       "      <td>no</td>\n",
       "      <td>excellent</td>\n",
       "      <td>no</td>\n",
       "    </tr>\n",
       "    <tr>\n",
       "      <th>2</th>\n",
       "      <td>31---40</td>\n",
       "      <td>high</td>\n",
       "      <td>no</td>\n",
       "      <td>fair</td>\n",
       "      <td>yes</td>\n",
       "    </tr>\n",
       "    <tr>\n",
       "      <th>3</th>\n",
       "      <td>&gt;40</td>\n",
       "      <td>medium</td>\n",
       "      <td>no</td>\n",
       "      <td>fair</td>\n",
       "      <td>yes</td>\n",
       "    </tr>\n",
       "    <tr>\n",
       "      <th>4</th>\n",
       "      <td>&gt;40</td>\n",
       "      <td>low</td>\n",
       "      <td>yes</td>\n",
       "      <td>fair</td>\n",
       "      <td>yes</td>\n",
       "    </tr>\n",
       "    <tr>\n",
       "      <th>5</th>\n",
       "      <td>&gt;40</td>\n",
       "      <td>low</td>\n",
       "      <td>yes</td>\n",
       "      <td>excellent</td>\n",
       "      <td>no</td>\n",
       "    </tr>\n",
       "    <tr>\n",
       "      <th>6</th>\n",
       "      <td>31---40</td>\n",
       "      <td>low</td>\n",
       "      <td>yes</td>\n",
       "      <td>excellent</td>\n",
       "      <td>yes</td>\n",
       "    </tr>\n",
       "    <tr>\n",
       "      <th>7</th>\n",
       "      <td>&lt;=30</td>\n",
       "      <td>medium</td>\n",
       "      <td>no</td>\n",
       "      <td>fair</td>\n",
       "      <td>no</td>\n",
       "    </tr>\n",
       "    <tr>\n",
       "      <th>8</th>\n",
       "      <td>&lt;=30</td>\n",
       "      <td>low</td>\n",
       "      <td>yes</td>\n",
       "      <td>fair</td>\n",
       "      <td>yes</td>\n",
       "    </tr>\n",
       "    <tr>\n",
       "      <th>9</th>\n",
       "      <td>&gt;40</td>\n",
       "      <td>medium</td>\n",
       "      <td>yes</td>\n",
       "      <td>fair</td>\n",
       "      <td>yes</td>\n",
       "    </tr>\n",
       "    <tr>\n",
       "      <th>10</th>\n",
       "      <td>&lt;=30</td>\n",
       "      <td>medium</td>\n",
       "      <td>yes</td>\n",
       "      <td>excellent</td>\n",
       "      <td>yes</td>\n",
       "    </tr>\n",
       "    <tr>\n",
       "      <th>11</th>\n",
       "      <td>31---40</td>\n",
       "      <td>medium</td>\n",
       "      <td>no</td>\n",
       "      <td>excellent</td>\n",
       "      <td>yes</td>\n",
       "    </tr>\n",
       "    <tr>\n",
       "      <th>12</th>\n",
       "      <td>31---40</td>\n",
       "      <td>high</td>\n",
       "      <td>yes</td>\n",
       "      <td>fair</td>\n",
       "      <td>yes</td>\n",
       "    </tr>\n",
       "    <tr>\n",
       "      <th>13</th>\n",
       "      <td>&gt;40</td>\n",
       "      <td>medium</td>\n",
       "      <td>no</td>\n",
       "      <td>excellent</td>\n",
       "      <td>no</td>\n",
       "    </tr>\n",
       "  </tbody>\n",
       "</table>\n",
       "</div>"
      ],
      "text/plain": [
       "        Age  Income Student Credit_Rating Buys_Computer\n",
       "0      <=30    high      no          fair            no\n",
       "1      <=30    high      no     excellent            no\n",
       "2   31---40    high      no          fair           yes\n",
       "3       >40  medium      no          fair           yes\n",
       "4       >40     low     yes          fair           yes\n",
       "5       >40     low     yes     excellent            no\n",
       "6   31---40     low     yes     excellent           yes\n",
       "7      <=30  medium      no          fair            no\n",
       "8      <=30     low     yes          fair           yes\n",
       "9       >40  medium     yes          fair           yes\n",
       "10     <=30  medium     yes     excellent           yes\n",
       "11  31---40  medium      no     excellent           yes\n",
       "12  31---40    high     yes          fair           yes\n",
       "13      >40  medium      no     excellent            no"
      ]
     },
     "execution_count": 3,
     "metadata": {},
     "output_type": "execute_result"
    }
   ],
   "source": [
    "df = pd.read_csv(\"Lab08_data.csv\")\n",
    "df"
   ]
  },
  {
   "cell_type": "code",
   "execution_count": 17,
   "id": "2db63dd3",
   "metadata": {},
   "outputs": [
    {
     "name": "stdout",
     "output_type": "stream",
     "text": [
      "Prior probability of buys_computer = yes: 0.6428571428571429\n",
      "Prior probability of buys_computer = no: 0.35714285714285715\n"
     ]
    }
   ],
   "source": [
    "#A1\n",
    "Buys_computer_counts = df['Buys_Computer'].value_counts()\n",
    "\n",
    "prior_prob_no = Buys_computer_counts['no'] / len(df)\n",
    "prior_prob_yes = Buys_computer_counts['yes'] / len(df)\n",
    "\n",
    "print(\"Prior probability of buys_computer = yes:\", prior_prob_yes)\n",
    "print(\"Prior probability of buys_computer = no:\", prior_prob_no)"
   ]
  },
  {
   "cell_type": "code",
   "execution_count": 56,
   "id": "c65f239c",
   "metadata": {},
   "outputs": [
    {
     "name": "stdout",
     "output_type": "stream",
     "text": [
      "Prior probability of buys_computer = yes: 0.6428571428571429\n",
      "Prior probability of buys_computer = no: 0.35714285714285715\n"
     ]
    }
   ],
   "source": [
    "n = len(df)\n",
    "count_yes = count_no = 0\n",
    "for i in range(0,n):\n",
    "    if df['Buys_Computer'][i] == \"yes\":\n",
    "        count_yes += 1\n",
    "    if df['Buys_Computer'][i] == \"no\":\n",
    "        count_no += 1\n",
    "prior_prob_yes = count_yes/n\n",
    "prior_prob_no = count_no/n\n",
    "print(\"Prior probability of buys_computer = yes:\", prior_prob_yes)\n",
    "print(\"Prior probability of buys_computer = no:\", prior_prob_no)"
   ]
  },
  {
   "cell_type": "code",
   "execution_count": 31,
   "id": "bc25784a",
   "metadata": {},
   "outputs": [
    {
     "name": "stdout",
     "output_type": "stream",
     "text": [
      "Class Conditional Densities:\n",
      "Class no: Age probabilities: {'<=30': 0.6, '>40': 0.4}\n",
      "Class yes: Age probabilities: {'31---40': 0.4444444444444444, '>40': 0.3333333333333333, '<=30': 0.2222222222222222}\n"
     ]
    }
   ],
   "source": [
    "#A2\n",
    "feature = 'Age'\n",
    "\n",
    "\n",
    "class_conditional_densities = {}\n",
    "for label in df['Buys_Computer'].unique():\n",
    "    class_data = df[df['Buys_Computer'] == label][feature]\n",
    "    class_counts = class_data.value_counts(normalize=True).to_dict() \n",
    "\n",
    "    class_conditional_densities[label] = class_counts\n",
    "\n",
    "print(\"Class Conditional Densities:\")\n",
    "for label, values in class_conditional_densities.items():\n",
    "    print(f\"Class {label}: {feature} probabilities: {values}\")"
   ]
  },
  {
   "cell_type": "code",
   "execution_count": 40,
   "id": "71063392",
   "metadata": {},
   "outputs": [
    {
     "name": "stdout",
     "output_type": "stream",
     "text": [
      "Class Conditional Densities:\n",
      "Class no: Income probabilities: {'high': 0.4, 'medium': 0.4, 'low': 0.2}\n",
      "Class yes: Income probabilities: {'medium': 0.4444444444444444, 'low': 0.3333333333333333, 'high': 0.2222222222222222}\n"
     ]
    }
   ],
   "source": [
    "feature2 = 'Income'\n",
    "\n",
    "class_conditional_densities = {}\n",
    "for label in df['Buys_Computer'].unique():\n",
    "    class_data = df[df['Buys_Computer'] == label][feature2]\n",
    "    class_counts = class_data.value_counts(normalize=True).to_dict() \n",
    "\n",
    "    class_conditional_densities[label] = class_counts\n",
    "\n",
    "print(\"Class Conditional Densities:\")\n",
    "for label, values in class_conditional_densities.items():\n",
    "    print(f\"Class {label}: {feature2} probabilities: {values}\")"
   ]
  },
  {
   "cell_type": "code",
   "execution_count": 41,
   "id": "408c81a0",
   "metadata": {},
   "outputs": [
    {
     "name": "stdout",
     "output_type": "stream",
     "text": [
      "Class Conditional Densities:\n",
      "Class no: Student probabilities: {'no': 0.8, 'yes': 0.2}\n",
      "Class yes: Student probabilities: {'yes': 0.6666666666666666, 'no': 0.3333333333333333}\n"
     ]
    }
   ],
   "source": [
    "feature3 = 'Student'\n",
    "\n",
    "\n",
    "class_conditional_densities = {}\n",
    "for label in df['Buys_Computer'].unique():\n",
    "    class_data = df[df['Buys_Computer'] == label][feature3]\n",
    "    class_counts = class_data.value_counts(normalize=True).to_dict() \n",
    "\n",
    "    class_conditional_densities[label] = class_counts\n",
    "\n",
    "print(\"Class Conditional Densities:\")\n",
    "for label, values in class_conditional_densities.items():\n",
    "    print(f\"Class {label}: {feature3} probabilities: {values}\")"
   ]
  },
  {
   "cell_type": "code",
   "execution_count": 42,
   "id": "3fa918d2",
   "metadata": {},
   "outputs": [
    {
     "name": "stdout",
     "output_type": "stream",
     "text": [
      "Class Conditional Densities:\n",
      "Class no: Credit_Rating probabilities: {'excellent': 0.6, 'fair': 0.4}\n",
      "Class yes: Credit_Rating probabilities: {'fair': 0.6666666666666666, 'excellent': 0.3333333333333333}\n"
     ]
    }
   ],
   "source": [
    "feature4 = 'Credit_Rating'\n",
    "\n",
    "class_conditional_densities = {}\n",
    "for label in df['Buys_Computer'].unique():\n",
    "    class_data = df[df['Buys_Computer'] == label][feature4]\n",
    "    class_counts = class_data.value_counts(normalize=True).to_dict() \n",
    "\n",
    "    class_conditional_densities[label] = class_counts\n",
    "\n",
    "print(\"Class Conditional Densities:\")\n",
    "for label, values in class_conditional_densities.items():\n",
    "    print(f\"Class {label}: {feature4} probabilities: {values}\")"
   ]
  },
  {
   "cell_type": "code",
   "execution_count": 43,
   "id": "f7824e66",
   "metadata": {},
   "outputs": [
    {
     "name": "stdout",
     "output_type": "stream",
     "text": [
      "Class Conditional Densities:\n",
      "Class no: Income probabilities: {'high': 0.4, 'low': 0.2, 'medium': 0.4}\n",
      "Class yes: Income probabilities: {'high': 0.2222222222222222, 'medium': 0.4444444444444444, 'low': 0.3333333333333333}\n"
     ]
    }
   ],
   "source": [
    "feature = 'Income'\n",
    "\n",
    "class_conditional_densities = {}\n",
    "for label in df['Buys_Computer'].unique():\n",
    "    class_data = df[df['Buys_Computer'] == label][feature]\n",
    "    class_size = len(class_data)\n",
    "    \n",
    "    category_counts = {}\n",
    "    for category in class_data:\n",
    "        if category not in category_counts:\n",
    "            category_counts[category] = 1\n",
    "        else:\n",
    "            category_counts[category] += 1\n",
    "    \n",
    "    \n",
    "    probabilities = {category: count / class_size for category, count in category_counts.items()}\n",
    "    \n",
    "    class_conditional_densities[label] = probabilities\n",
    "\n",
    "print(\"Class Conditional Densities:\")\n",
    "for label, values in class_conditional_densities.items():\n",
    "    print(f\"Class {label}: {feature} probabilities: {values}\")"
   ]
  },
  {
   "cell_type": "code",
   "execution_count": 45,
   "id": "8197903e",
   "metadata": {},
   "outputs": [
    {
     "name": "stdout",
     "output_type": "stream",
     "text": [
      "\n",
      "Class Conditional Densities for Age:\n",
      "Class no: Age probabilities: {'<=30': 0.6, '>40': 0.4}\n",
      "Class yes: Age probabilities: {'31---40': 0.4444444444444444, '>40': 0.3333333333333333, '<=30': 0.2222222222222222}\n",
      "\n",
      "Class Conditional Densities for Income:\n",
      "Class no: Income probabilities: {'high': 0.4, 'low': 0.2, 'medium': 0.4}\n",
      "Class yes: Income probabilities: {'high': 0.2222222222222222, 'medium': 0.4444444444444444, 'low': 0.3333333333333333}\n",
      "\n",
      "Class Conditional Densities for Student:\n",
      "Class no: Student probabilities: {'no': 0.8, 'yes': 0.2}\n",
      "Class yes: Student probabilities: {'no': 0.3333333333333333, 'yes': 0.6666666666666666}\n",
      "\n",
      "Class Conditional Densities for Credit_Rating:\n",
      "Class no: Credit_Rating probabilities: {'fair': 0.4, 'excellent': 0.6}\n",
      "Class yes: Credit_Rating probabilities: {'fair': 0.6666666666666666, 'excellent': 0.3333333333333333}\n"
     ]
    }
   ],
   "source": [
    "features = ['Age', 'Income', 'Student', 'Credit_Rating']\n",
    "\n",
    "class_conditional_densities = {}\n",
    "\n",
    "for feature in features:\n",
    "    feature_probabilities = {}\n",
    "  \n",
    "    for label in df['Buys_Computer'].unique():\n",
    "        class_data = df[df['Buys_Computer'] == label][feature]\n",
    "        class_size = len(class_data)\n",
    "        \n",
    "        category_counts = {}\n",
    "        for category in class_data:\n",
    "            if category not in category_counts:\n",
    "                category_counts[category] = 1\n",
    "            else:\n",
    "                category_counts[category] += 1\n",
    "        \n",
    "        probabilities = {category: count / class_size for category, count in category_counts.items()}\n",
    "        \n",
    "        feature_probabilities[label] = probabilities\n",
    "\n",
    "    class_conditional_densities[feature] = feature_probabilities\n",
    "\n",
    "for feature, values in class_conditional_densities.items():\n",
    "    print(f\"\\nClass Conditional Densities for {feature}:\")\n",
    "    for label, probabilities in values.items():\n",
    "        print(f\"Class {label}: {feature} probabilities: {probabilities}\")"
   ]
  },
  {
   "cell_type": "code",
   "execution_count": null,
   "id": "e132577f",
   "metadata": {},
   "outputs": [],
   "source": []
  }
 ],
 "metadata": {
  "kernelspec": {
   "display_name": "Python 3 (ipykernel)",
   "language": "python",
   "name": "python3"
  },
  "language_info": {
   "codemirror_mode": {
    "name": "ipython",
    "version": 3
   },
   "file_extension": ".py",
   "mimetype": "text/x-python",
   "name": "python",
   "nbconvert_exporter": "python",
   "pygments_lexer": "ipython3",
   "version": "3.11.4"
  }
 },
 "nbformat": 4,
 "nbformat_minor": 5
}
